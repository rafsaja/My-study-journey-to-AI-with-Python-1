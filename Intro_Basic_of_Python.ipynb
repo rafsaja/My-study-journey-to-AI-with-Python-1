{
 "cells": [
  {
   "cell_type": "markdown",
   "metadata": {},
   "source": [
    "# 1| Introduction and Basics of Python\n"
   ]
  },
  {
   "cell_type": "markdown",
   "metadata": {},
   "source": [
    "## How print statement works\n",
    "\n"
   ]
  },
  {
   "cell_type": "markdown",
   "metadata": {},
   "source": [
    "### Basic Syntax\n"
   ]
  },
  {
   "cell_type": "code",
   "execution_count": 22,
   "metadata": {},
   "outputs": [
    {
     "name": "stdout",
     "output_type": "stream",
     "text": [
      "Hello, Wordl!\n"
     ]
    }
   ],
   "source": [
    "print(\"Hello, Wordl!\")"
   ]
  },
  {
   "cell_type": "code",
   "execution_count": 23,
   "metadata": {},
   "outputs": [
    {
     "name": "stdout",
     "output_type": "stream",
     "text": [
      "Rafsamjani\n",
      "Anugrah\n"
     ]
    }
   ],
   "source": [
    "print(\"Rafsamjani\")\n",
    "print(\"Anugrah\")"
   ]
  },
  {
   "cell_type": "markdown",
   "metadata": {},
   "source": [
    "#### NewLine Character\n"
   ]
  },
  {
   "cell_type": "code",
   "execution_count": 24,
   "metadata": {},
   "outputs": [
    {
     "name": "stdout",
     "output_type": "stream",
     "text": [
      "Rafsamjani\n",
      "Anugrah\n"
     ]
    }
   ],
   "source": [
    "# \\n - new line character\n",
    "\n",
    "print(\"Rafsamjani\\nAnugrah\")"
   ]
  },
  {
   "cell_type": "markdown",
   "metadata": {},
   "source": [
    "#### Horizontal tab"
   ]
  },
  {
   "cell_type": "code",
   "execution_count": 25,
   "metadata": {},
   "outputs": [
    {
     "name": "stdout",
     "output_type": "stream",
     "text": [
      "Rafsamjani\tAnugrah\n"
     ]
    }
   ],
   "source": [
    "# \\t - Horizontal tab character\n",
    "\n",
    "print(\"Rafsamjani\\tAnugrah\")"
   ]
  },
  {
   "cell_type": "markdown",
   "metadata": {},
   "source": [
    "#### Practice "
   ]
  },
  {
   "cell_type": "markdown",
   "metadata": {},
   "source": [
    "1. **Write a program to print following output:**\n",
    "\n",
    "Your Name\n",
    "\n",
    "        College Name\n",
    "\n",
    "             City Name\n",
    "\n",
    "2. **Write a program to print following output:**\n",
    "\n",
    "&\n",
    "\n",
    "&&\n",
    "\n",
    "&&&\n",
    "\n",
    "3. **Write a program to print following output:**\n",
    "    \n",
    "    *\n",
    "    \n",
    "*            *\n",
    "\n",
    "    *"
   ]
  },
  {
   "cell_type": "code",
   "execution_count": 26,
   "metadata": {},
   "outputs": [
    {
     "name": "stdout",
     "output_type": "stream",
     "text": [
      "Rafsamjani Anugrah \n",
      " \tUniversitas Islam Riau \n",
      "\t\t Pekanbaru\n"
     ]
    }
   ],
   "source": [
    "# Nomor 1\n",
    "print(\"Rafsamjani Anugrah \\n \\tUniversitas Islam Riau \\n\\t\\t Pekanbaru\")\n"
   ]
  },
  {
   "cell_type": "code",
   "execution_count": 27,
   "metadata": {},
   "outputs": [
    {
     "name": "stdout",
     "output_type": "stream",
     "text": [
      "& \n",
      "&& \n",
      "&&&\n"
     ]
    }
   ],
   "source": [
    "# Nomor 2\n",
    "print(\"& \\n&& \\n&&&\")\n"
   ]
  },
  {
   "cell_type": "code",
   "execution_count": 28,
   "metadata": {},
   "outputs": [
    {
     "name": "stdout",
     "output_type": "stream",
     "text": [
      "\t* \t \n",
      "* \t\t* \n",
      "\t* \t\n"
     ]
    }
   ],
   "source": [
    "# Nomor 3\n",
    "print(\"\\t* \\t \\n* \\t\\t* \\n\\t* \\t\")"
   ]
  },
  {
   "cell_type": "code",
   "execution_count": 29,
   "metadata": {},
   "outputs": [
    {
     "name": "stdout",
     "output_type": "stream",
     "text": [
      "    *\n",
      "*\t*\n",
      "    *\n"
     ]
    }
   ],
   "source": [
    "print(\"    *\\n*\\t*\\n    *\")"
   ]
  },
  {
   "cell_type": "markdown",
   "metadata": {},
   "source": [
    "### Variables\n"
   ]
  },
  {
   "cell_type": "code",
   "execution_count": 30,
   "metadata": {},
   "outputs": [
    {
     "name": "stdout",
     "output_type": "stream",
     "text": [
      "69\n"
     ]
    }
   ],
   "source": [
    "a = 69 \n",
    "print(a)"
   ]
  },
  {
   "cell_type": "code",
   "execution_count": 31,
   "metadata": {},
   "outputs": [
    {
     "name": "stdout",
     "output_type": "stream",
     "text": [
      "Rafsamjani\n"
     ]
    }
   ],
   "source": [
    "b = \"Rafsamjani\"\n",
    "print(b)"
   ]
  },
  {
   "cell_type": "code",
   "execution_count": 32,
   "metadata": {},
   "outputs": [
    {
     "name": "stdout",
     "output_type": "stream",
     "text": [
      "70.6\n"
     ]
    }
   ],
   "source": [
    "c = 70.6\n",
    "print(c)"
   ]
  },
  {
   "cell_type": "code",
   "execution_count": 33,
   "metadata": {},
   "outputs": [
    {
     "name": "stdout",
     "output_type": "stream",
     "text": [
      "<class 'int'>\n",
      "<class 'str'>\n",
      "<class 'float'>\n"
     ]
    }
   ],
   "source": [
    "print(type(a))\n",
    "print(type(b))\n",
    "print(type(c))"
   ]
  },
  {
   "cell_type": "markdown",
   "metadata": {},
   "source": [
    "#### Input from User"
   ]
  },
  {
   "cell_type": "code",
   "execution_count": 34,
   "metadata": {},
   "outputs": [
    {
     "name": "stdout",
     "output_type": "stream",
     "text": [
      "10\n"
     ]
    }
   ],
   "source": [
    "a = input()\n",
    "print(a)"
   ]
  },
  {
   "cell_type": "code",
   "execution_count": 35,
   "metadata": {},
   "outputs": [
    {
     "ename": "TypeError",
     "evalue": "can only concatenate str (not \"int\") to str",
     "output_type": "error",
     "traceback": [
      "\u001b[1;31m---------------------------------------------------------------------------\u001b[0m",
      "\u001b[1;31mTypeError\u001b[0m                                 Traceback (most recent call last)",
      "Cell \u001b[1;32mIn[35], line 2\u001b[0m\n\u001b[0;32m      1\u001b[0m a \u001b[38;5;241m=\u001b[39m \u001b[38;5;28minput\u001b[39m()\n\u001b[1;32m----> 2\u001b[0m \u001b[38;5;28mprint\u001b[39m(\u001b[43ma\u001b[49m\u001b[43m \u001b[49m\u001b[38;5;241;43m+\u001b[39;49m\u001b[43m \u001b[49m\u001b[38;5;241;43m1\u001b[39;49m)\n\u001b[0;32m      4\u001b[0m \u001b[38;5;66;03m# (concatenate) sebuah string dengan sebuah bilangan bulat (integer). Di Python, operasi ini menyebabkan TypeError karena tidak dapat menggabungkan langsung tipe data string dan integer tanpa konversi\u001b[39;00m\n",
      "\u001b[1;31mTypeError\u001b[0m: can only concatenate str (not \"int\") to str"
     ]
    }
   ],
   "source": [
    "a = input()\n",
    "print(a + 1)\n",
    "\n",
    "# (concatenate) sebuah string dengan sebuah bilangan bulat (integer). Di Python, operasi ini menyebabkan TypeError karena tidak dapat menggabungkan langsung tipe data string dan integer tanpa konversi"
   ]
  },
  {
   "cell_type": "code",
   "execution_count": null,
   "metadata": {},
   "outputs": [
    {
     "name": "stdout",
     "output_type": "stream",
     "text": [
      "2\n"
     ]
    }
   ],
   "source": [
    "a = input()\n",
    "a = int(a)\n",
    "\n",
    "print(a + 1)"
   ]
  },
  {
   "cell_type": "markdown",
   "metadata": {},
   "source": [
    "### input function with a message"
   ]
  },
  {
   "cell_type": "code",
   "execution_count": null,
   "metadata": {},
   "outputs": [
    {
     "name": "stdout",
     "output_type": "stream",
     "text": [
      "RAFSAJA\n"
     ]
    }
   ],
   "source": [
    "a = input(\"Masukkan Password\")\n",
    "print(a)"
   ]
  },
  {
   "cell_type": "code",
   "execution_count": null,
   "metadata": {},
   "outputs": [
    {
     "name": "stdout",
     "output_type": "stream",
     "text": [
      "Hello! Rafsaja\n"
     ]
    }
   ],
   "source": [
    "a = input(\"Masukkan Username Sikad :\")\n",
    "print(\"Hello!\", a)"
   ]
  },
  {
   "cell_type": "markdown",
   "metadata": {},
   "source": [
    "### Data Types"
   ]
  },
  {
   "cell_type": "markdown",
   "metadata": {},
   "source": [
    "#### Type Conversion\n",
    "\n",
    "To convert variables to one type to another there are some direct in-built functions:\n",
    "`int()`, `float()`, `str()`, `bool()` and more."
   ]
  },
  {
   "cell_type": "code",
   "execution_count": 38,
   "metadata": {},
   "outputs": [
    {
     "name": "stdout",
     "output_type": "stream",
     "text": [
      "<class 'float'>\n",
      "60\n",
      "<class 'int'>\n"
     ]
    }
   ],
   "source": [
    "a = 60.5\n",
    "print(type (a))\n",
    "\n",
    "# Konversi float ke int\n",
    "\n",
    "b = int(a)\n",
    "print(b)\n",
    "print(type(b))"
   ]
  },
  {
   "cell_type": "code",
   "execution_count": 39,
   "metadata": {},
   "outputs": [
    {
     "name": "stdout",
     "output_type": "stream",
     "text": [
      "<class 'float'>\n",
      "60.5\n",
      "<class 'str'>\n"
     ]
    }
   ],
   "source": [
    "a = 60.5\n",
    "print(type(a))\n",
    "\n",
    "# Konversi float ke string\n",
    "\n",
    "b= str(a)\n",
    "print(b)\n",
    "print(type(b))"
   ]
  },
  {
   "cell_type": "markdown",
   "metadata": {},
   "source": [
    "### My Program\n"
   ]
  },
  {
   "cell_type": "markdown",
   "metadata": {},
   "source": [
    "Question: Write a program to enter 2 values from user and print addition of them."
   ]
  },
  {
   "cell_type": "code",
   "execution_count": 42,
   "metadata": {},
   "outputs": [
    {
     "name": "stdout",
     "output_type": "stream",
     "text": [
      "14.879999999999999\n"
     ]
    }
   ],
   "source": [
    "a = float(input(\"Masukkan IP semester 1:\"))\n",
    "b = float(input(\"Masukkan IP semester 2:\"))\n",
    "c = float(input(\"Masukkan IP semester 3:\"))\n",
    "d = float(input(\"Masukkan IP semester 4:\"))\n",
    "\n",
    "total = a+b+c+d\n",
    "\n",
    "print(total)\n",
    "\n"
   ]
  },
  {
   "cell_type": "code",
   "execution_count": 43,
   "metadata": {},
   "outputs": [
    {
     "name": "stdout",
     "output_type": "stream",
     "text": [
      "Ini adalah hasil kerja keras mu semester ini: 14.879999999999999\n"
     ]
    }
   ],
   "source": [
    "print(\"Ini adalah hasil kerja keras mu semester ini:\", total)"
   ]
  },
  {
   "cell_type": "markdown",
   "metadata": {},
   "source": [
    "#### F-string & Format()"
   ]
  },
  {
   "cell_type": "markdown",
   "metadata": {},
   "source": [
    "F-string dan metode .format() adalah dua cara dalam Python untuk memasukkan (interpolasi) nilai variabel ke dalam string\n",
    "\n",
    "Fstring hanya bisa digunakan untuk python versi 3.6 keatas \n",
    "\n",
    "Disini saya menggunakan versi 3.12"
   ]
  },
  {
   "cell_type": "code",
   "execution_count": 54,
   "metadata": {},
   "outputs": [
    {
     "name": "stdout",
     "output_type": "stream",
     "text": [
      "Nama: Rafsamjani Anugrah, Kelas; D\n"
     ]
    }
   ],
   "source": [
    "# F-string -> F + \"n1: {}, n2: {}, n3: {}, n4: {}\"\n",
    "\n",
    "nama = \"Rafsamjani Anugrah\"\n",
    "kelas = \"D\"\n",
    "\n",
    "kalimat = f\"Nama: {nama}, Kelas; {kelas}\"\n",
    "print(kalimat)"
   ]
  },
  {
   "cell_type": "code",
   "execution_count": 58,
   "metadata": {},
   "outputs": [
    {
     "name": "stdout",
     "output_type": "stream",
     "text": [
      "Nama: Rafsamjani, Kelas: pindahan A\n"
     ]
    }
   ],
   "source": [
    "# Format ->.format{} -> \"Nilai1: {}, Nilai2: {}, Nilai3: {}, Nilai4:\" + .format(x1, x2, x3, x4)\n",
    "\n",
    "nama_baru = \"Rafsamjani\"\n",
    "kelas_baru = \"A\"\n",
    "\n",
    "kalimat_baru = \"Nama: {}, Kelas: pindahan {}\".format(nama_baru,kelas_baru)\n",
    "print(kalimat_baru)\n"
   ]
  },
  {
   "cell_type": "markdown",
   "metadata": {},
   "source": [
    "Kesimpulan F-string vs .format()\n",
    "\n",
    "1) Sintaks\n",
    "\n",
    "* F-string: Menggunakan awalan f atau F sebelum string dan menyisipkan variabel langsung di dalam kurung kurawal {}.\n",
    "\n",
    "contoh : \n",
    "\n",
    "nama = \"John\"\n",
    "usia = 25\n",
    "kalimat = f\"Nama: {nama}, Usia: {usia} tahun\"\n",
    "\n",
    "* format(): Menyisipkan variabel menggunakan placeholder {} dan kemudian menggunakan metode .format() dengan memberikan nilai variabel sebagai argumen.\n",
    "\n",
    "nama = \"John\" \n",
    "usia = 25\n",
    "kalimat = \"Nama: {}, Usia: {} tahun\".format(nama, usia)\n",
    "\n",
    "\n",
    "2) Versi Python\n",
    "\n",
    "* F-string: Tersedia mulai dari Python versi 3.6 ke atas.\n",
    "* Metode .format(): Tersedia di Python versi 2.7 dan semua versi Python 3.\n",
    "\n",
    "\n",
    "3) Kelebihan \n",
    "\n",
    "* F-string : F-string cenderung lebih ringkas dan mudah dibaca ,  Menyediakan sintaksis yang lebih langsung dan ekspresif.\n",
    "* .format(): Dukungan untuk versi Python yang lebih lama (Python 2.7), Lebih fleksibel dalam beberapa situasi kompleks.\n",
    "\n",
    "\n"
   ]
  },
  {
   "cell_type": "code",
   "execution_count": null,
   "metadata": {},
   "outputs": [],
   "source": []
  },
  {
   "cell_type": "markdown",
   "metadata": {},
   "source": []
  }
 ],
 "metadata": {
  "kernelspec": {
   "display_name": "Python 3",
   "language": "python",
   "name": "python3"
  },
  "language_info": {
   "codemirror_mode": {
    "name": "ipython",
    "version": 3
   },
   "file_extension": ".py",
   "mimetype": "text/x-python",
   "name": "python",
   "nbconvert_exporter": "python",
   "pygments_lexer": "ipython3",
   "version": "3.12.1"
  }
 },
 "nbformat": 4,
 "nbformat_minor": 2
}
